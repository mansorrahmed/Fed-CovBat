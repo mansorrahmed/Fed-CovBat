{
 "cells": [
  {
   "cell_type": "code",
   "execution_count": 1,
   "metadata": {},
   "outputs": [],
   "source": [
    "import matplotlib.pyplot as plt\n",
    "import numpy as np\n",
    "import pandas as pd\n",
    "import seaborn as sns\n",
    "import os, glob, re"
   ]
  },
  {
   "cell_type": "code",
   "execution_count": 2,
   "metadata": {},
   "outputs": [],
   "source": [
    "openbhb_dir = \"/Users/mansoor/Documents/GSU/Projects/Neuroimaging-Project/Dataset/OpenBHB/\"\n",
    "roi_dir = os.path.join(openbhb_dir , \"roi/\")\n",
    "roi_npy_dir = os.path.join(roi_dir , \"npy_files/\")\n",
    "labels_dir = os.path.join(openbhb_dir , \"labels/\")\n",
    "resource_dir = os.path.join(openbhb_dir , \"resource/\")\n",
    "\n",
    "f_train_participants = os.path.join(labels_dir + \"train_participants.tsv\")\n",
    "f_val_participants = os.path.join(labels_dir, \"val_participants.tsv\")\n",
    "f_participants = os.path.join(labels_dir, \"participants.csv\")\n",
    "\n",
    "f_train_sites = os.path.join(labels_dir + \"train_official_site_class_labels.tsv\")\n",
    "f_val_sites = os.path.join(labels_dir, \"val_official_site_class_labels.tsv\")\n",
    "f_sites = os.path.join(labels_dir, \"site_labels.csv\")"
   ]
  },
  {
   "cell_type": "code",
   "execution_count": null,
   "metadata": {},
   "outputs": [],
   "source": [
    "openbhb_dir = \"/Users/mansoor/Documents/GSU/Projects/Neuroimaging-Project/Dataset/OpenBHB/\"\n",
    "roi_dir = os.path.join(openbhb_dir , \"roi/\")\n",
    "debiased_roi_dir = os.path.join(openbhb_dir , \"debiased_roi/\")\n",
    "labels_dir = os.path.join(openbhb_dir , \"labels/\")\n",
    "\n",
    "f_participants = os.path.join(labels_dir, \"participants.csv\")\n",
    "f_sites = os.path.join(labels_dir, \"site_labels.csv\")"
   ]
  },
  {
   "cell_type": "code",
   "execution_count": 3,
   "metadata": {},
   "outputs": [
    {
     "name": "stdout",
     "output_type": "stream",
     "text": [
      "(3984, 13) (3984, 2)\n"
     ]
    }
   ],
   "source": [
    "train_participants = pd.read_csv(f_train_participants, sep=\"\\t\")\n",
    "val_participants = pd.read_csv(f_val_participants, sep=\"\\t\")\n",
    "train_sites = pd.read_csv(f_train_sites, sep=\"\\t\")\n",
    "val_sites = pd.read_csv(f_val_sites, sep=\"\\t\")\n",
    "\n",
    "participants = pd.concat([train_participants, val_participants], axis=0)\n",
    "participants.iloc[:,:-1].to_csv(f_participants)\n",
    "\n",
    "sites = pd.concat([train_sites, val_sites], axis=0)\n",
    "sites.to_csv(f_sites)\n",
    "print(participants.shape, sites.shape)"
   ]
  },
  {
   "cell_type": "code",
   "execution_count": 5,
   "metadata": {},
   "outputs": [],
   "source": [
    "# Load ROI files\n",
    "fpaths_vbm_roi = glob.glob(os.path.join(roi_npy_dir, \"*cat12vbm_desc-gm_ROI.npy\"))\n",
    "fpaths_deskn_roi = glob.glob(os.path.join(roi_npy_dir, \"*desikan_ROI.npy\"))\n",
    "fpaths_destrx_roi = glob.glob(os.path.join(roi_npy_dir, \"*destrieux_ROI.npy\"))\n",
    "\n",
    "# Load labels and channels\n",
    "vbm_labels = np.loadtxt(os.path.join(resource_dir, 'cat12vbm_labels.txt'), dtype=str)\n",
    "desikan_labels = np.loadtxt(os.path.join(resource_dir, 'freesurfer_atlas-desikan_labels.txt'), dtype=str)\n",
    "destrieux_labels = np.loadtxt(os.path.join(resource_dir, 'freesurfer_atlas-destrieux_labels.txt'), dtype=str)\n",
    "channels = np.loadtxt(os.path.join(resource_dir, 'freesurfer_channels.txt'), dtype=str)\n"
   ]
  },
  {
   "cell_type": "code",
   "execution_count": 6,
   "metadata": {},
   "outputs": [],
   "source": [
    "# Function to create column names\n",
    "def create_column_names(labels, channels=\"\"):\n",
    "    column_names = []\n",
    "    for label in labels:\n",
    "        for channel in channels:\n",
    "            column_names.append(f\"{channel}_{label}\")\n",
    "    return column_names\n",
    "\n",
    "# Create column names\n",
    "vbm_column_names = vbm_labels\n",
    "desikan_column_names = create_column_names(desikan_labels, channels)\n",
    "destrieux_column_names = create_column_names(destrieux_labels, channels)\n"
   ]
  },
  {
   "cell_type": "code",
   "execution_count": null,
   "metadata": {},
   "outputs": [],
   "source": [
    "# Initialize data matrices\n",
    "vbm_data_matrix = []\n",
    "norm_vbm_data_matrix = []\n",
    "\n",
    "# Load data and construct matrices\n",
    "for fpath in fpaths_vbm_roi:\n",
    "    participant_id = int(re.search(r'sub-(\\d+)', fpath).group(1))\n",
    "    vbm_data_matrix.append([participant_id] + np.load(fpath).flatten().tolist())\n",
    "    vbm_data = np.load(fpath).flatten()\n",
    "    tiv = participants.loc[participants['participant_id'] == participant_id, 'tiv'].values[0]\n",
    "    normalized_vbm_data = vbm_data / tiv\n",
    "    norm_vbm_data_matrix.append([participant_id] + normalized_vbm_data.tolist())\n",
    "\n",
    "vbm_df = pd.DataFrame(vbm_data_matrix, columns=np.insert(vbm_column_names, 0,'participant_id'))\n",
    "vbm_df.to_csv(os.path.join(roi_dir +\"vbm/\", 'vbm_roi.csv'), index=False)\n",
    "norm_vbm_df = pd.DataFrame(norm_vbm_data_matrix, columns=np.insert(vbm_column_names, 0,'participant_id'))\n",
    "norm_vbm_df.to_csv(os.path.join(roi_dir +\"vbm/\", 'normalized_vbm_roi.csv'), index=False)\n"
   ]
  },
  {
   "cell_type": "code",
   "execution_count": null,
   "metadata": {},
   "outputs": [],
   "source": [
    "desikan_data_matrix = []\n",
    "\n",
    "for fpath in fpaths_deskn_roi:\n",
    "    participant_id = int(re.search(r'sub-(\\d+)', fpath).group(1))\n",
    "    desikan_data_matrix.append([participant_id] + np.load(fpath).reshape(-1).tolist())\n",
    "    # desikan_data = np.load(fpath)\n",
    "    # tiv = participants.loc[participants['participant_id'] == participant_id, 'tiv'].values[0]\n",
    "    # # Normalize GM volumes\n",
    "    # desikan_data[:,1, :] /= tiv  # Assuming GM volume is the second channel\n",
    "    # print(desikan_data[:,1, :], tiv)\n",
    "    # norm_desikan_data_matrix.append([participant_id] + desikan_data.reshape(-1).tolist())\n",
    "\n",
    "# scaler = StandardScaler()\n",
    "# norm_desikan_data_matrix = scaler.fit_transform(desikan_data_matrix)\n",
    "\n",
    "desikan_df = pd.DataFrame(desikan_data_matrix, columns=np.insert(desikan_column_names, 0,'participant_id'))\n",
    "desikan_df.to_csv(os.path.join(roi_dir + \"desikan/\", 'desikan_roi.csv'), index=False)\n",
    "# desikan_df = pd.DataFrame(norm_desikan_data_matrix, columns=np.insert(desikan_column_names, 0,'participant_id'))\n",
    "# desikan_df.to_csv(os.path.join(roi_dir + \"desikan/\", 'normalized_desikan_roi.csv'), index=False)\n"
   ]
  },
  {
   "cell_type": "code",
   "execution_count": null,
   "metadata": {},
   "outputs": [],
   "source": [
    "destrieux_data_matrix = []\n",
    "norm_destrieux_data_matrix = []\n",
    "\n",
    "for fpath in fpaths_destrx_roi:\n",
    "    participant_id = int(re.search(r'sub-(\\d+)', fpath).group(1))\n",
    "    destrieux_data_matrix.append([participant_id] + np.load(fpath).reshape(-1).tolist())\n",
    "    # destrieux_data = np.load(fpath)\n",
    "    # tiv = participants.loc[participants['participant_id'] == participant_id, 'tiv'].values[0]\n",
    "    # # Normalize GM volumes\n",
    "    # destrieux_data[:, 1, :] /= tiv  # Assuming GM volume is the second channel\n",
    "    # norm_destrieux_data_matrix.append([participant_id] + destrieux_data.reshape(-1).tolist())\n",
    "\n",
    "\n",
    "destrieux_df = pd.DataFrame(destrieux_data_matrix, columns=np.insert(destrieux_column_names, 0,'participant_id'))\n",
    "destrieux_df.to_csv(os.path.join(roi_dir + \"destrieux/\", 'destrieux_roi.csv'), index=False)\n",
    "# norm_destrieux_df = pd.DataFrame(norm_destrieux_data_matrix, columns=np.insert(destrieux_column_names, 0,'participant_id'))\n",
    "# norm_destrieux_df.to_csv(os.path.join(roi_dir + \"destrieux/\", 'normalized_destrieux_roi.csv'), index=False)\n"
   ]
  },
  {
   "cell_type": "code",
   "execution_count": null,
   "metadata": {},
   "outputs": [],
   "source": [
    "# Create separate data matrices for each channel in Desikan and Destrieux\n",
    "for channel in channels:\n",
    "    desikan_channel_columns = [col for col in desikan_column_names if col.startswith(channel)]\n",
    "    destrieux_channel_columns = [col for col in destrieux_column_names if col.startswith(channel)]\n",
    "\n",
    "    desikan_channel_df = desikan_df[['participant_id'] + desikan_channel_columns]\n",
    "    destrieux_channel_df = destrieux_df[['participant_id'] + destrieux_channel_columns]\n",
    "\n",
    "    desikan_channel_df.to_csv(os.path.join(roi_dir + \"desikan/\", f'desikan_{channel}_roi.csv'), index=False)\n",
    "    destrieux_channel_df.to_csv(os.path.join(roi_dir + \"destrieux/\", f'destrieux_{channel}_roi.csv'), index=False)\n"
   ]
  }
 ],
 "metadata": {
  "kernelspec": {
   "display_name": "Python 3",
   "language": "python",
   "name": "python3"
  },
  "language_info": {
   "codemirror_mode": {
    "name": "ipython",
    "version": 3
   },
   "file_extension": ".py",
   "mimetype": "text/x-python",
   "name": "python",
   "nbconvert_exporter": "python",
   "pygments_lexer": "ipython3",
   "version": "3.9.6"
  }
 },
 "nbformat": 4,
 "nbformat_minor": 2
}
